{
 "cells": [
  {
   "cell_type": "markdown",
   "metadata": {},
   "source": [
    "<img src=\"00-mathematics_with_python.png\" style=\"height:250px\" align=\"left\">"
   ]
  },
  {
   "cell_type": "markdown",
   "metadata": {},
   "source": [
    "<!--NAVIGATION-->\n",
    "< [2 Matplotlib](22-matplotlib.ipynb) | [III Solving Mathematical Problems](30-solving_mathematical_problems.ipynb) >"
   ]
  },
  {
   "cell_type": "markdown",
   "metadata": {},
   "source": [
    "# 3 Sympy\n",
    "SymPy is a library for symbolic mathematics.\n",
    "It integrates the functionality of a computer algebra system into Python."
   ]
  },
  {
   "cell_type": "code",
   "execution_count": 1,
   "metadata": {},
   "outputs": [
    {
     "name": "stdout",
     "output_type": "stream",
     "text": [
      "1.12\n"
     ]
    }
   ],
   "source": [
    "import sympy as sp\n",
    "print(sp.__version__)"
   ]
  },
  {
   "cell_type": "markdown",
   "metadata": {},
   "source": [
    "<h1>Solving ODEs with SymPy</h1>"
   ]
  },
  {
   "cell_type": "markdown",
   "metadata": {},
   "source": [
    "# What should I know before I start?\n",
    " - You know the difference between numerical and symbolic computation. "
   ]
  },
  {
   "cell_type": "markdown",
   "metadata": {},
   "source": [
    "# Solving ODEs with SymPy"
   ]
  },
  {
   "cell_type": "markdown",
   "metadata": {},
   "source": [
    "## Why do we use SymPy for solving ODEs?\n",
    "In scientific and technical applications, ordinary differential equations (ODE) are usually so complex that the calculation of an exact solution with paper and pencil is very extensive or in some cases not possible at all.\n",
    "The most common methods for solving differential equations are implemented in today's computer algebra systems.\n",
    "These systems have the advantage that they can perform extensive calculations very reliably. In Python the library for symbolic mathematics is called `sympy`.\n",
    "\n",
    "<div class=\"alert alert-block alert-danger\">\n",
    "The `sympy` library is constantly being further developed.      \n",
    "This Jupyter Notebook is proofen to work with version `1.9`.\n",
    "</div>"
   ]
  },
  {
   "cell_type": "code",
   "execution_count": 2,
   "metadata": {},
   "outputs": [
    {
     "name": "stdout",
     "output_type": "stream",
     "text": [
      "sympy version = 1.12\n"
     ]
    }
   ],
   "source": [
    "import sympy as sp\n",
    "print('sympy version = '+ sp.__version__)\n",
    "sp.init_printing()"
   ]
  },
  {
   "cell_type": "markdown",
   "metadata": {},
   "source": [
    "## How do we solve ODEs with SymPy?\n",
    "The solution of an ordinary differential equation consists of a function $y$ depending on a variable $x$.\n",
    "SymPy provides the methods `sympy.Symbol()` and `sympy.Function()` to declare variables and functions."
   ]
  },
  {
   "cell_type": "code",
   "execution_count": 3,
   "metadata": {},
   "outputs": [],
   "source": [
    "x = sp.Symbol('x')\n",
    "y = sp.Function('y')(x)"
   ]
  },
  {
   "cell_type": "markdown",
   "metadata": {},
   "source": [
    "In addition to the function itself, differential equations contain derivatives of this function.\n",
    "Derivatives are specified by `sympy.Derivative()`."
   ]
  },
  {
   "cell_type": "code",
   "execution_count": 4,
   "metadata": {},
   "outputs": [],
   "source": [
    "yp = sp.Derivative(y)"
   ]
  },
  {
   "cell_type": "markdown",
   "metadata": {},
   "source": [
    "Symbolic equations in SymPy are not represented by `=` or `==`, but by `sympy.Eq()`.\n",
    "Many different types of ordinary differential equations can be solved be `sympy.dsolve()`.\n",
    "\n",
    "<div class=\"alert alert-block alert-warning\">\n",
    "    \n",
    "<b>Example</b>\n",
    "\n",
    "Let us consider the ordinary differential equation\n",
    "    \n",
    "$$\n",
    "    y'(x) + \\frac{y(x)}{x} = \\frac{2}{1 + x^2} \\, .\n",
    "$$  \n",
    "</div>"
   ]
  },
  {
   "cell_type": "code",
   "execution_count": 5,
   "metadata": {},
   "outputs": [
    {
     "data": {
      "image/png": "[encoded data removed]",
      "text/latex": [
       "$\\displaystyle y{\\left(x \\right)} = \\frac{C_{1} + \\log{\\left(x^{2} + 1 \\right)}}{x}$"
      ],
      "text/plain": [
       "               ⎛ 2    ⎞\n",
       "       C₁ + log⎝x  + 1⎠\n",
       "y(x) = ────────────────\n",
       "              x        "
      ]
     },
     "execution_count": 5,
     "metadata": {},
     "output_type": "execute_result"
    }
   ],
   "source": [
    "ode = sp.Eq(yp+y/x,2/(1+x**2))\n",
    "sp.dsolve(ode)"
   ]
  },
  {
   "cell_type": "markdown",
   "metadata": {},
   "source": [
    "## What about ODEs with parameters?\n",
    "Solving differential equations is often so complex because the equations contain many parameters.\n",
    "With SymPy it is also possible to solve differential equations that contain parameters.\n",
    "\n",
    "<div class=\"alert alert-block alert-warning\">\n",
    "    \n",
    "<b>Example</b>\n",
    "\n",
    "The differential equation of an oscillation can be formulated by\n",
    "    \n",
    "$$\n",
    "    \\ddot{x}(t) + 2 \\, \\delta \\, \\dot{x}(t) + \\omega_0^2 \\, x(t) = 0 \\, .\n",
    "$$  \n",
    "</div>"
   ]
  },
  {
   "cell_type": "code",
   "execution_count": 6,
   "metadata": {},
   "outputs": [
    {
     "data": {
      "image/png": "[encoded data removed]",
      "text/latex": [
       "$\\displaystyle x{\\left(t \\right)} = C_{1} e^{t \\left(- \\delta + \\sqrt{\\delta^{2} - \\omega_{0}^{2}}\\right)} + C_{2} e^{- t \\left(\\delta + \\sqrt{\\delta^{2} - \\omega_{0}^{2}}\\right)}$"
      ],
      "text/plain": [
       "             ⎛        __________⎞          ⎛       __________⎞\n",
       "             ⎜       ╱  2     2 ⎟          ⎜      ╱  2     2 ⎟\n",
       "           t⋅⎝-δ + ╲╱  δ  - ω₀  ⎠       -t⋅⎝δ + ╲╱  δ  - ω₀  ⎠\n",
       "x(t) = C₁⋅ℯ                       + C₂⋅ℯ                      "
      ]
     },
     "execution_count": 6,
     "metadata": {},
     "output_type": "execute_result"
    }
   ],
   "source": [
    "t, delta, omega_0 = sp.symbols('t, delta, omega_0')\n",
    "x = sp.Function('x')(t)\n",
    "xp = sp.Derivative(x)\n",
    "xpp = sp.Derivative(xp)\n",
    "ode = sp.Eq(xpp+2*delta*xp+omega_0**2*x,0)\n",
    "sp.dsolve(ode)"
   ]
  },
  {
   "cell_type": "markdown",
   "metadata": {},
   "source": [
    "## How to extend to initial value problems?\n",
    "An initial value problem consists of a differential equation and some initial conditions.\n",
    "The initial conditions are specified values of the unknown function for certain variable values.\n",
    "In SymPy initial conditions are built using `subs()` for the substitution of the variable values.\n",
    "\n",
    "<div class=\"alert alert-block alert-warning\">\n",
    "    \n",
    "<b>Example</b>\n",
    "\n",
    "Let us consider the initial value problem\n",
    "    \n",
    "$$\n",
    "    \\ddot{x}(t) + 2 \\, \\dot{x}(t) - 3 \\, x(t) = 2 \\, \\sin(t),  \\quad x(0) = 0, \\, \\dot{x}(0) = 1 \\, .\n",
    "$$  \n",
    "</div>"
   ]
  },
  {
   "cell_type": "code",
   "execution_count": 7,
   "metadata": {},
   "outputs": [],
   "source": [
    "ode = sp.Eq(xpp+2*xp-3*x,2*sp.sin(t))\n",
    "initconds = {x.subs(t, 0): 0, xp.subs(t, 0): 1}\n",
    "sol = sp.dsolve(ode,ics=initconds)"
   ]
  },
  {
   "cell_type": "markdown",
   "metadata": {},
   "source": [
    "$$\n",
    "x{\\left(t \\right)} = \\frac{e^{t}}{2} - \\frac{2 \\sin{\\left(t \\right)}}{5} - \\frac{\\cos{\\left(t \\right)}}{5} - \\frac{3 e^{- 3 t}}{10}\n",
    "$$"
   ]
  },
  {
   "cell_type": "markdown",
   "metadata": {},
   "source": [
    "So far we have managed to find the particular solution to this differential equation. On the left hand side the solution consists of the name of the function and the variable, i.e. $x(t)$. In order to plot the solution the right hand side of the solution is used."
   ]
  },
  {
   "cell_type": "code",
   "execution_count": 8,
   "metadata": {},
   "outputs": [
    {
     "data": {
      "image/png": "[encoded data removed]",
      "text/plain": [
       "<Figure size 640x480 with 1 Axes>"
      ]
     },
     "metadata": {},
     "output_type": "display_data"
    },
    {
     "data": {
      "text/plain": [
       "<sympy.plotting.plot.Plot at 0x2509468d290>"
      ]
     },
     "execution_count": 8,
     "metadata": {},
     "output_type": "execute_result"
    }
   ],
   "source": [
    "sp.plot(sol.rhs,(t,0.0,3.0))"
   ]
  },
  {
   "cell_type": "markdown",
   "metadata": {},
   "source": [
    "With `simpy.lambdify()` the symbolic expression can be transformed to a function which can be used to calculate numerical values very fast."
   ]
  },
  {
   "cell_type": "code",
   "execution_count": 10,
   "metadata": {},
   "outputs": [
    {
     "data": {
      "image/png": "[encoded data removed]",
      "text/latex": [
       "$\\displaystyle 0.899555938622377$"
      ],
      "text/plain": [
       "0.8995559386223767"
      ]
     },
     "execution_count": 10,
     "metadata": {},
     "output_type": "execute_result"
    }
   ],
   "source": [
    "x = sp.lambdify(t,sol.rhs)\n",
    "x(1.0)"
   ]
  },
  {
   "cell_type": "markdown",
   "metadata": {},
   "source": [
    "## What are the limitations?\n",
    "Not all ordinary differential equations can be precisely mathematically solved.\n",
    "Therefore, `sympy.dsolve()` is also not able to solve all problems.\n",
    "\n",
    "The solution of differential equations with parameters sometimes depends on special properties of the parameters.\n",
    "For example the solution of the differential equation of an oscillation\n",
    "    \n",
    "$$\n",
    "    \\ddot{x}(t) + 2 \\, \\delta \\, \\dot{x}(t) + \\omega_0^2 \\, x(t) = 0\n",
    "$$\n",
    "\n",
    "depends on the relation between $\\delta$ and $\\omega_0$."
   ]
  },
  {
   "cell_type": "markdown",
   "metadata": {},
   "source": [
    "# Conclusion\n",
    " - Many ordinary differential equations can be solved using `sympy.dsolve()`.\n",
    " - It is possibel to add initial conditions.\n",
    " - Differential equations containing parameters can be handled."
   ]
  },
  {
   "cell_type": "markdown",
   "metadata": {},
   "source": [
    "# Did you get it?\n",
    "<div class=\"alert alert-block alert-info\">\n",
    "    \n",
    "<b>Task 1</b>\n",
    "    \n",
    "Calculate all solutions to the ordinary differential equation\n",
    "    \n",
    "$$\n",
    "    y''(x) + 2 \\, y'(x) + 2 \\, y(x) = 0 \\, .\n",
    "$$\n",
    "</div>"
   ]
  },
  {
   "cell_type": "code",
   "execution_count": null,
   "metadata": {},
   "outputs": [],
   "source": [
    "#\n",
    "# Python code for solution of task 1\n",
    "#\n",
    "x = sp.Symbol('x')\n",
    "y = sp.Function('y')(x)\n",
    "yp = sp.Derivative(y)\n",
    "ypp = sp.Derivative(yp)\n",
    "ode = sp.Eq(ypp+2*yp+2*y,0)\n",
    "sp.dsolve(ode)"
   ]
  },
  {
   "cell_type": "markdown",
   "metadata": {},
   "source": [
    "<div class=\"alert alert-block alert-info\">\n",
    "    \n",
    "<b>Task 2</b>\n",
    "\n",
    "Radioactive decay, with decay rate $\\lambda$, can be desribed by the initial value problem\n",
    "\n",
    "$$\n",
    "\\frac{\\dot{N}(t)}{ N(t)} = -\\lambda, \\quad N(0) = N_0.\n",
    "$$\n",
    "    \n",
    "Calculate the solution with SymPy.\n",
    "</div>"
   ]
  },
  {
   "cell_type": "code",
   "execution_count": null,
   "metadata": {},
   "outputs": [],
   "source": [
    "#\n",
    "# Python code for solution of task 2\n",
    "#\n",
    "t, lambada, N0 = sp.symbols('t, lambda, N_0')\n",
    "N = sp.Function('N')(t)\n",
    "Np = sp.Derivative(N)\n",
    "ode = sp.Eq(Np/N,-lambada)\n",
    "initconds = {N.subs(t, 0): N0}\n",
    "sp.dsolve(ode,ics=initconds)"
   ]
  },
  {
   "cell_type": "markdown",
   "metadata": {},
   "source": [
    "## Literature\n",
    "- https://docs.sympy.org\n",
    "- https://youtu.be/lzLv7kEiXOA"
   ]
  }
 ],
 "metadata": {
  "kernelspec": {
   "display_name": "Python 3 (ipykernel)",
   "language": "python",
   "name": "python3"
  },
  "language_info": {
   "codemirror_mode": {
    "name": "ipython",
    "version": 3
   },
   "file_extension": ".py",
   "mimetype": "text/x-python",
   "name": "python",
   "nbconvert_exporter": "python",
   "pygments_lexer": "ipython3",
   "version": "3.11.7"
  }
 },
 "nbformat": 4,
 "nbformat_minor": 4
}
